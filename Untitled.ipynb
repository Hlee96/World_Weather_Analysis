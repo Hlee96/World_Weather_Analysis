{
 "cells": [
  {
   "cell_type": "code",
   "execution_count": 1,
   "id": "1cab04bb",
   "metadata": {},
   "outputs": [],
   "source": [
    "# Import the random module\n",
    "import random"
   ]
  },
  {
   "cell_type": "code",
   "execution_count": 3,
   "id": "477ded45",
   "metadata": {},
   "outputs": [
    {
     "data": {
      "text/plain": [
       "-48"
      ]
     },
     "execution_count": 3,
     "metadata": {},
     "output_type": "execute_result"
    }
   ],
   "source": [
    "# randint, random\n",
    "random.randint(-90,90)\n",
    "\n",
    "# Returns a single integer between the specified two numbers"
   ]
  },
  {
   "cell_type": "code",
   "execution_count": 4,
   "id": "d24e9193",
   "metadata": {},
   "outputs": [
    {
     "data": {
      "text/plain": [
       "0.37654672949013557"
      ]
     },
     "execution_count": 4,
     "metadata": {},
     "output_type": "execute_result"
    }
   ],
   "source": [
    "# random() function we can get a single floating_point decimal between 0-1\n",
    "random.random()"
   ]
  },
  {
   "cell_type": "code",
   "execution_count": 5,
   "id": "379202cf",
   "metadata": {},
   "outputs": [
    {
     "data": {
      "text/plain": [
       "-62.47367510848533"
      ]
     },
     "execution_count": 5,
     "metadata": {},
     "output_type": "execute_result"
    }
   ],
   "source": [
    "random_number = random.randint(-90,90) + random.random()\n",
    "random_number"
   ]
  },
  {
   "cell_type": "code",
   "execution_count": 9,
   "id": "fd14c501",
   "metadata": {},
   "outputs": [
    {
     "data": {
      "text/plain": [
       "[-75.35980065448467,\n",
       " 73.09550760785487,\n",
       " -38.13071468816643,\n",
       " 8.47033679984789,\n",
       " -34.91736669308518,\n",
       " 87.187905808297,\n",
       " -48.12778920898311,\n",
       " -86.84089895573712,\n",
       " 7.801282967884406,\n",
       " 15.63528282769146]"
      ]
     },
     "execution_count": 9,
     "metadata": {},
     "output_type": "execute_result"
    }
   ],
   "source": [
    "# assign varible x to 1\n",
    "x = 1\n",
    "\n",
    "# Initialize an empty list\n",
    "latitudes = []\n",
    "\n",
    "# while loop to generate random latitudes to add to the list\n",
    "# loop condition is chekd and will continue to run as long as x is less than 11\n",
    "while x < 11:\n",
    "    random_lat = random.randint(-90,89) + random.random()\n",
    "    latitudes.append(random_lat)\n",
    "    x += 1\n",
    "latitudes"
   ]
  },
  {
   "cell_type": "code",
   "execution_count": 10,
   "id": "9d8df181",
   "metadata": {},
   "outputs": [
    {
     "data": {
      "text/plain": [
       "37"
      ]
     },
     "execution_count": 10,
     "metadata": {},
     "output_type": "execute_result"
    }
   ],
   "source": [
    "# randrange() need to add two numbers, lower and upper limit, seperated by a comma\n",
    "# add a step parameter and set it equal to an integer, which will generate incremements of a given integer, from lower to upper\n",
    "random.randrange(-90,90, step=1)"
   ]
  },
  {
   "cell_type": "code",
   "execution_count": 11,
   "id": "7ec745cc",
   "metadata": {},
   "outputs": [
    {
     "data": {
      "text/plain": [
       "6"
      ]
     },
     "execution_count": 11,
     "metadata": {},
     "output_type": "execute_result"
    }
   ],
   "source": [
    "random.randrange(-90,90, step=3)"
   ]
  },
  {
   "cell_type": "code",
   "execution_count": 12,
   "id": "8c014e5d",
   "metadata": {},
   "outputs": [
    {
     "data": {
      "text/plain": [
       "56.32351737878071"
      ]
     },
     "execution_count": 12,
     "metadata": {},
     "output_type": "execute_result"
    }
   ],
   "source": [
    "# Uniform() function will allow us to generate a floating point decimal number between two given numbers\n",
    "random.uniform(-90,90)"
   ]
  },
  {
   "cell_type": "code",
   "execution_count": 13,
   "id": "ea52b490",
   "metadata": {},
   "outputs": [],
   "source": [
    "# Import the NumPy module\n",
    "import numpy as np "
   ]
  },
  {
   "cell_type": "code",
   "execution_count": 14,
   "id": "3dd9ab5a",
   "metadata": {},
   "outputs": [
    {
     "data": {
      "text/plain": [
       "43.06618323319435"
      ]
     },
     "execution_count": 14,
     "metadata": {},
     "output_type": "execute_result"
    }
   ],
   "source": [
    "np.random.uniform(-90.000,90.000)"
   ]
  },
  {
   "cell_type": "code",
   "execution_count": 15,
   "id": "0c5849cf",
   "metadata": {},
   "outputs": [
    {
     "data": {
      "text/plain": [
       "array([ 31.638369  , -29.12325726,  26.64589334, -82.55684524,\n",
       "       -45.17357564,  70.50433751, -74.53585832,  63.98610095,\n",
       "        45.84561587,  14.23390715,  79.42778674, -34.94645231,\n",
       "        73.33590812,  75.83233451,  64.1342371 ,  54.10143809,\n",
       "        68.53126209,  69.68110957, -77.79655367,  70.58017696,\n",
       "        89.69243798,  28.26833523,  84.85790062, -85.11624714,\n",
       "       -77.12914536, -11.6528682 ,  -1.26996723, -66.41450622,\n",
       "       -63.87269936,  75.28535748,   8.08179189, -80.19759283,\n",
       "       -75.57653817,  70.53325419,  34.63053461, -67.54802331,\n",
       "        35.79652178, -21.44413581,  75.78014134,  -0.71219983,\n",
       "       -31.15167945, -76.31509267,  54.75405242, -36.04423445,\n",
       "        32.47255198,  23.22207579,  19.59340157,  89.63843121,\n",
       "         3.38407316,  -7.04831991])"
      ]
     },
     "execution_count": 15,
     "metadata": {},
     "output_type": "execute_result"
    }
   ],
   "source": [
    "np.random.uniform(-90.000, 90.000, size=50)"
   ]
  },
  {
   "cell_type": "code",
   "execution_count": 16,
   "id": "a32b0ab0",
   "metadata": {},
   "outputs": [],
   "source": [
    "# timeit\n",
    "# how long a piece of code or function takes to run\n",
    "import timeit"
   ]
  },
  {
   "cell_type": "code",
   "execution_count": 17,
   "id": "238fa0fd",
   "metadata": {},
   "outputs": [
    {
     "name": "stdout",
     "output_type": "stream",
     "text": [
      "13.1 µs ± 139 ns per loop (mean ± std. dev. of 7 runs, 100000 loops each)\n"
     ]
    }
   ],
   "source": [
    "# Increase parameter size to 1500\n",
    "%timeit np.random.uniform(-90.000, 90.000, size=1500)\n",
    "\n",
    "#output shows 13.1 microseconds"
   ]
  },
  {
   "cell_type": "code",
   "execution_count": 19,
   "id": "bca3307a",
   "metadata": {},
   "outputs": [
    {
     "name": "stdout",
     "output_type": "stream",
     "text": [
      "1.58 ms ± 16.9 µs per loop (mean ± std. dev. of 7 runs, 1000 loops each)\n"
     ]
    }
   ],
   "source": [
    "def latitudes(size):\n",
    "    latitudes = []\n",
    "    x = 0\n",
    "    while x < (size):\n",
    "        random_lat = random.randint(-90, 90) + random.random()\n",
    "        latitudes.append(random_lat)\n",
    "        x += 1\n",
    "    return latitudes\n",
    "# Call the function with 1500.\n",
    "%timeit latitudes(1500)"
   ]
  },
  {
   "cell_type": "code",
   "execution_count": 20,
   "id": "ba617747",
   "metadata": {},
   "outputs": [
    {
     "name": "stdout",
     "output_type": "stream",
     "text": [
      "1.56 ms ± 22.3 µs per loop (mean ± std. dev. of 7 runs, 1000 loops each)\n"
     ]
    }
   ],
   "source": [
    "%timeit latitudes(1500)"
   ]
  },
  {
   "cell_type": "code",
   "execution_count": 21,
   "id": "39a88788",
   "metadata": {},
   "outputs": [],
   "source": [
    "# import the dependencies\n",
    "import pandas as pd\n",
    "import matplotlib.pyplot as plt\n",
    "import numpy as np"
   ]
  },
  {
   "cell_type": "code",
   "execution_count": 22,
   "id": "a8a914bf",
   "metadata": {},
   "outputs": [
    {
     "data": {
      "text/plain": [
       "<zip at 0x2553af11808>"
      ]
     },
     "execution_count": 22,
     "metadata": {},
     "output_type": "execute_result"
    }
   ],
   "source": [
    "# Create a set of random latitude and longitude combinations.\n",
    "lats = np.random.uniform(low=-90.000, high=90.000, size=1500)\n",
    "lngs = np.random.uniform(low=-180.000, high=180.000, size=1500)\n",
    "lat_lngs = zip(lats, lngs)\n",
    "lat_lngs"
   ]
  },
  {
   "cell_type": "code",
   "execution_count": null,
   "id": "f06fea31",
   "metadata": {},
   "outputs": [],
   "source": []
  }
 ],
 "metadata": {
  "kernelspec": {
   "display_name": "PythonData",
   "language": "python",
   "name": "pythondata"
  },
  "language_info": {
   "codemirror_mode": {
    "name": "ipython",
    "version": 3
   },
   "file_extension": ".py",
   "mimetype": "text/x-python",
   "name": "python",
   "nbconvert_exporter": "python",
   "pygments_lexer": "ipython3",
   "version": "3.7.13"
  }
 },
 "nbformat": 4,
 "nbformat_minor": 5
}
